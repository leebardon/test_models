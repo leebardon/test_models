{
 "cells": [
  {
   "cell_type": "markdown",
   "metadata": {},
   "source": [
    "<h1> Marine Biogeochemical Modelling </h1>\n",
    "\n",
    "This represents a first attempt at building a basic marine biogeochemical model. The model consists of four state variables - B1, B2, R and N, where B1 and B2 represent competing bacterial populations, R represents a pool of organic nutrients (that both bacterial populations consume), and N is the pool of inorganic nutrients that both bacterial populations excrete (aka 'detritus'). \n",
    "\n",
    "In each case, we are modelling the time-varying concentrations of each component of the system, ultimately permitting us to track the distribution of nutrients within the system, as a consequence of specific initial conditions and parameter settings (e.g. varying growth or dilution rates).\n",
    "\n",
    "The system is represented as a series of interacting ODE's that specify the rate of change of each state variable, according to the instantaneous state of the other state variables in the system. Thus, by breaking our interacting system of ODE's into algebraic expressions, and discretising into time steps, we can obtain the time-varying concentrations of each state variable at each numerical iteration."
   ]
  },
  {
   "cell_type": "markdown",
   "metadata": {},
   "source": [
    "<h3> Transfer Functions </h3>\n",
    "\n",
    "The transfer of nutrients in and out of each 'pool' (e.g. the state variables) is controlled by transfer functions, each of which describes a particular ecosystem process. \n",
    "\n",
    "$ \\frac{dB_{1}}{dt} = \\mu_{1} B_{1} - DB_{1} $\n",
    "\n",
    "$ \\frac{dB_{2}}{dt} = \\mu_{2} B_{2} - DB_{2} $\n",
    "\n",
    "$ \\frac{dR}{dt} = R_{in}D - \\frac{1}{y_{1}} \\mu_{1}B_{1} - \\frac{1}{y_{2}} \\mu_{2}B_{2} - DR = D (R_{in}-R) - \\frac{1}{y_{i}} \\mu_{i}B_{i} $\n",
    "\n",
    "$ \\frac{dN}{dt} = (\\frac{1}{y_{i}}-1) \\mu_{i}B_{i} - DN $\n",
    "\n"
   ]
  },
  {
   "cell_type": "markdown",
   "metadata": {},
   "source": [
    "<h2> Parameters </h2>\n",
    "\n",
    "$y_{1}$<br>\n",
    "$y_{2}$<br>\n",
    "$\\lambda_{mx1}$<br>\n",
    "$\\lambda_{mx2}$<br>\n",
    "$k_{1}$<br>\n",
    "$k_{2}$<br>\n",
    "$\\mu_{1}=y_{1}\\lambda_{mx1}\\frac{R}{R+k_{1}}$<br>\n",
    "$\\mu_{2}=y_{2}\\lambda_{mx2}\\frac{R}{R+k_{2}}$<br>"
   ]
  },
  {
   "cell_type": "code",
   "execution_count": 2,
   "metadata": {},
   "outputs": [],
   "source": [
    "y1 = 0.3\n",
    "y2 = 0.3\n",
    "l_mx1 = 1\n",
    "l_mx2 = 10\n",
    "k1 = 0.1\n",
    "k2 = 2\n",
    "D = 0.1\n",
    "Rin = 1\n",
    "dt = 0.01\n",
    "n_steps = 100"
   ]
  },
  {
   "cell_type": "code",
   "execution_count": 4,
   "metadata": {},
   "outputs": [],
   "source": [
    "# Initial Conditions \n",
    "B1_0 = 2 \n",
    "B2_0 = 2\n",
    "R_0 = 5\n",
    "N_0 = 1"
   ]
  },
  {
   "cell_type": "code",
   "execution_count": 9,
   "metadata": {},
   "outputs": [],
   "source": [
    "# Initialise Arrays\n",
    "import numpy as np\n",
    "\n",
    "def initialise_arrays(n_steps, n_state_vars):\n",
    "    init = []\n",
    "    for i in range(n_state_vars):\n",
    "        init.append(np.empty(n_steps, dtype=\"float\"))\n",
    "    return init[0], init[1], init[2], init[3]"
   ]
  },
  {
   "cell_type": "code",
   "execution_count": 10,
   "metadata": {},
   "outputs": [],
   "source": [
    "B1, B2, R, N = initialise_arrays(n_steps, 4)\n",
    "B1[0] = B1_0\n",
    "B2[0] = B2_0\n",
    "R[0] = R_0\n",
    "N[0] = N_0"
   ]
  },
  {
   "cell_type": "code",
   "execution_count": 11,
   "metadata": {},
   "outputs": [
    {
     "ename": "SyntaxError",
     "evalue": "invalid syntax (2167747247.py, line 6)",
     "output_type": "error",
     "traceback": [
      "\u001b[0;36m  Cell \u001b[0;32mIn [11], line 6\u001b[0;36m\u001b[0m\n\u001b[0;31m    B1[i] = B1[t] +\u001b[0m\n\u001b[0m                    ^\u001b[0m\n\u001b[0;31mSyntaxError\u001b[0m\u001b[0;31m:\u001b[0m invalid syntax\n"
     ]
    }
   ],
   "source": [
    "# Euler forward method \n",
    "\n",
    "for i in np.arange(1, n_steps, 1):\n",
    "    t = i - 1\n",
    "    \n",
    "    B1[i] = B1[t] + \n",
    "    B2[i] = B1[t] +\n",
    "    R[i] = R[t] +\n",
    "    N[i] = N[t] +"
   ]
  },
  {
   "cell_type": "code",
   "execution_count": null,
   "metadata": {},
   "outputs": [],
   "source": []
  }
 ],
 "metadata": {
  "kernelspec": {
   "display_name": "Python 3.10.4 ('model1')",
   "language": "python",
   "name": "python3"
  },
  "language_info": {
   "codemirror_mode": {
    "name": "ipython",
    "version": 3
   },
   "file_extension": ".py",
   "mimetype": "text/x-python",
   "name": "python",
   "nbconvert_exporter": "python",
   "pygments_lexer": "ipython3",
   "version": "3.10.4"
  },
  "orig_nbformat": 4,
  "vscode": {
   "interpreter": {
    "hash": "296e5847f5c123f1bfc1080f66aaeefd59a6c8d0c895f4141f291a38903ed051"
   }
  }
 },
 "nbformat": 4,
 "nbformat_minor": 2
}
