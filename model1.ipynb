{
 "cells": [
  {
   "cell_type": "markdown",
   "metadata": {},
   "source": [
    "<h1> Marine Biogeochemical Modelling </h1>\n",
    "\n",
    "This represents a first attempt at building a basic marine biogeochemical model. The model consists of four state variables - B1, B2, R and N, where B1 and B2 represent competing bacterial populations, R represents a pool of organic nutrients (that both bacterial populations consume), and N is the pool of inorganic nutrients that both bacterial populations excrete (aka 'detritus'). \n",
    "\n",
    "In each case, we are modelling the time-varying concentrations of each component of the system, ultimately permitting us to track the distribution of nutrients within the system, as a consequence of specific initial conditions and parameter settings (e.g. varying growth or dilution rates).\n",
    "\n",
    "The system is represented as a series of interacting ODE's that specify the rate of change of each state variable, according to the instantaneous state of the other state variables in the system. Thus, by breaking our interacting system of ODE's into algebraic expressions, and discretising into time steps, we can obtain the time-varying concentrations of each state variable at each numerical iteration."
   ]
  },
  {
   "cell_type": "markdown",
   "metadata": {},
   "source": [
    "<h3> Transfer Functions </h3>\n",
    "\n",
    "The transfer of nutrients in and out of each 'pool' (e.g. the state variables) is controlled by transfer functions, each of which describes a particular ecosystem process. \n",
    "\n",
    "$ \\frac{dB_{1}}{dt} = \\mu_{1} B_{1} - DB_{1} $\n",
    "\n",
    "$ \\frac{dB_{2}}{dt} = \\mu_{2} B_{2} - DB_{2} $\n",
    "\n",
    "$ \\frac{dR}{dt} = R_{in}D - \\frac{1}{y_{1}} \\mu_{1}B_{1} - \\frac{1}{y_{2}} \\mu_{2}B_{2} - DR = D (R_{in}-R) - \\frac{1}{y_{i}} \\mu_{i}B_{i} $\n",
    "\n",
    "$ \\frac{dN}{dt} = (\\frac{1}{y_{i}}-1) \\mu_{i}B_{i} - DN $"
   ]
  },
  {
   "cell_type": "markdown",
   "metadata": {},
   "source": []
  }
 ],
 "metadata": {
  "language_info": {
   "name": "python"
  },
  "orig_nbformat": 4
 },
 "nbformat": 4,
 "nbformat_minor": 2
}
